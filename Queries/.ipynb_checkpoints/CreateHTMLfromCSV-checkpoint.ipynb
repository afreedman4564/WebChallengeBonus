{
 "cells": [
  {
   "cell_type": "code",
   "execution_count": 1,
   "id": "8bd9f592",
   "metadata": {},
   "outputs": [],
   "source": [
    "import pandas as pd"
   ]
  },
  {
   "cell_type": "code",
   "execution_count": 4,
   "id": "3fca6c8e",
   "metadata": {},
   "outputs": [],
   "source": [
    "file = pd.read_csv(\"../Resources/Study_results.csv\")\n",
    "file.to_html(\"../Study_results.html\") "
   ]
  },
  {
   "cell_type": "code",
   "execution_count": null,
   "id": "a8fbcd4d",
   "metadata": {},
   "outputs": [],
   "source": []
  }
 ],
 "metadata": {
  "kernelspec": {
   "display_name": "pythondata",
   "language": "python",
   "name": "pythondata"
  },
  "language_info": {
   "codemirror_mode": {
    "name": "ipython",
    "version": 3
   },
   "file_extension": ".py",
   "mimetype": "text/x-python",
   "name": "python",
   "nbconvert_exporter": "python",
   "pygments_lexer": "ipython3",
   "version": "3.8.12"
  }
 },
 "nbformat": 4,
 "nbformat_minor": 5
}
